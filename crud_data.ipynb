{
 "cells": [
  {
   "attachments": {},
   "cell_type": "markdown",
   "id": "175dfd1a",
   "metadata": {},
   "source": [
    "One can wonder the following question: what is the probability $p_i$ of an elevator being at the ith floor when it is called at a time $t$ of the day?\n",
    "\n",
    "To model this problem let us consider dividing the day into 24 blocks, each representing one hour. For example, the block $b_1$ corresponds to times beteween 00:00 and 01:00, $b_2$ between 01:00 and 02:00, and so on. Thus, $p_i(b_j)$ is the probaility for the elevator to be avilable when it is called at a given time in the block $b_j$. For a $N$-floors building, we aim to determine $p_1(b_j), \\ldots, p_N(b_j)$. Then, the ideal resting floor at a given block of time $b_j$ is the one for which the probabilty is maximum.  \n",
    "\n",
    "In practice, one can record the time $t$ of a call and the current resting floor if the elevator is available. It might happen that the the elevator is moving when the a call occurs. In that case, the resting floor is the one that becomes available for that call. Then, we can train a model with this data and once it is trained we expect to predict $p_1(b_j), \\ldots, p_N(b_j)$ for a given input $b_j$.\n",
    "\n",
    "For a 20 floors building, I simulated some data using the codes in `data_generation.py` for an entire year. I added weights to the calling floors in `pcalling` and resting floors in `presting`. The code loops day by day over the entire year, generating `resting_floor` and `calling_floor` according to weights. Some floors are biased un purpose, to simulate a realistic situation. This data is stored in the table `elevator` within `database.db` (a sqlite datase).\n",
    "\n",
    "In this notebook I do some queries on the data that might result relevant for feeding a prediction engine."
   ]
  },
  {
   "cell_type": "code",
   "execution_count": 105,
   "id": "c9db833f",
   "metadata": {},
   "outputs": [],
   "source": [
    "import sqlite3\n",
    "import datetime\n",
    "import random\n",
    "import numpy as np\n",
    "\n",
    "con = sqlite3.connect(\"database.db\")\n",
    "cur = con.cursor()"
   ]
  },
  {
   "attachments": {},
   "cell_type": "markdown",
   "id": "0a5746c1",
   "metadata": {},
   "source": [
    "### Let us read some data"
   ]
  },
  {
   "cell_type": "code",
   "execution_count": 106,
   "id": "ca526931",
   "metadata": {},
   "outputs": [
    {
     "data": {
      "text/plain": [
       "[(0, 'id', 'INTEGER', 0, None, 1),\n",
       " (1, 'calling_floor', 'INTEGER', 0, None, 0),\n",
       " (2, 'resting_floor', 'INTEGER', 0, None, 0),\n",
       " (3, 'time', 'TIMESTAMP', 0, None, 0),\n",
       " (4, 'time_block', 'INTEGER', 0, None, 0)]"
      ]
     },
     "execution_count": 106,
     "metadata": {},
     "output_type": "execute_result"
    }
   ],
   "source": [
    "# Get information about the table \"elevator\"\n",
    "result = cur.execute(\"PRAGMA table_info(elevator)\")\n",
    "result.fetchall()"
   ]
  },
  {
   "cell_type": "code",
   "execution_count": 107,
   "id": "cf224cb0",
   "metadata": {},
   "outputs": [
    {
     "name": "stdout",
     "output_type": "stream",
     "text": [
      "There are 84680 entries in \"elevator\"\n"
     ]
    }
   ],
   "source": [
    "# Get the number of rows in the table \"elevator\"\n",
    "total_rows = cur.execute(\"SELECT COUNT(*) FROM elevator;\").fetchall()[0][0]\n",
    "print(f\"There are {total_rows} entries in \\\"elevator\\\"\")"
   ]
  },
  {
   "cell_type": "code",
   "execution_count": 108,
   "id": "8c1bb89f",
   "metadata": {},
   "outputs": [
    {
     "name": "stdout",
     "output_type": "stream",
     "text": [
      "43586 calls were made from the 6th floor\n"
     ]
    }
   ],
   "source": [
    "# Let's see how many times a demand was made from a given floor\n",
    "floor = 6\n",
    "result = cur.execute(\"\"\"SELECT COUNT(*) FROM elevator WHERE calling_floor = ?\"\"\",(floor,)).fetchall()[0][0]\n",
    "print(f\"{result} calls were made from the {floor}th floor\")"
   ]
  },
  {
   "cell_type": "code",
   "execution_count": 109,
   "id": "17fe8c3b",
   "metadata": {},
   "outputs": [
    {
     "name": "stdout",
     "output_type": "stream",
     "text": [
      "45456 times 15 was the resting floor\n"
     ]
    }
   ],
   "source": [
    "# How many times a given floor was the resting floor\n",
    "floor = 15\n",
    "result = cur.execute(\"\"\"SELECT COUNT(*) FROM elevator WHERE resting_floor = ?\"\"\",(floor,)).fetchall()[0][0]\n",
    "print(f\"{result} times {floor} was the resting floor\")"
   ]
  },
  {
   "attachments": {},
   "cell_type": "markdown",
   "id": "f4873c0e",
   "metadata": {},
   "source": [
    "Let us try seeing how many times a demand was made from a floor while the elevator was resting at some other floor during a range of time blocks"
   ]
  },
  {
   "cell_type": "code",
   "execution_count": 110,
   "id": "f588f86d",
   "metadata": {},
   "outputs": [
    {
     "name": "stdout",
     "output_type": "stream",
     "text": [
      "Total of 6 entries with those constraints\n"
     ]
    }
   ],
   "source": [
    "l = 2\n",
    "u = 15\n",
    "calling_floor = 17\n",
    "resting_floor = 10 \n",
    "values = (calling_floor, resting_floor, l,u)\n",
    "\n",
    "query = \"\"\"\n",
    "        SELECT COUNT(*) \n",
    "        FROM elevator \n",
    "        WHERE calling_floor = ? AND resting_floor = ? AND (time_block BETWEEN ?  AND ?)\n",
    "        ;\n",
    "        \"\"\"\n",
    "\n",
    "result = cur.execute(query, values).fetchall()[0][0]\n",
    "print(f\"Total of {result} entries with those constraints\")"
   ]
  },
  {
   "attachments": {},
   "cell_type": "markdown",
   "id": "b4670c7a",
   "metadata": {},
   "source": [
    "Let us put this data into numpy arrays, a suitable format to feed and train a prediction engine. Let us suppouse that we onw to use the `time blocks` and `calling floors` as inputs and the `resting floors` as outputs."
   ]
  },
  {
   "cell_type": "code",
   "execution_count": 111,
   "id": "a39d4738",
   "metadata": {},
   "outputs": [],
   "source": [
    "input_data = np.zeros((2,total_rows))\n",
    "output_data = np.zeros(total_rows)\n",
    "\n",
    "for i in range(1,total_rows+1):\n",
    "    _,cfloor,rfloor,_,block = cur.execute(\"SELECT * FROM elevator WHERE id = ?\", (i,)).fetchall()[0]\n",
    "    input_data[:,i-1] = np.array([cfloor,block])\n",
    "    output_data[i-1] = rfloor\n"
   ]
  },
  {
   "cell_type": "code",
   "execution_count": 112,
   "id": "078a2baf",
   "metadata": {},
   "outputs": [
    {
     "data": {
      "text/plain": [
       "array([[ 6.,  6.,  6., ...,  6.,  6., 18.],\n",
       "       [ 0.,  0.,  0., ..., 23., 23., 23.]])"
      ]
     },
     "execution_count": 112,
     "metadata": {},
     "output_type": "execute_result"
    }
   ],
   "source": [
    "input_data"
   ]
  },
  {
   "cell_type": "code",
   "execution_count": 113,
   "id": "3e5947b8",
   "metadata": {},
   "outputs": [
    {
     "data": {
      "text/plain": [
       "array([18., 10., 15., ...,  1., 15., 13.])"
      ]
     },
     "execution_count": 113,
     "metadata": {},
     "output_type": "execute_result"
    }
   ],
   "source": [
    "output_data"
   ]
  },
  {
   "cell_type": "code",
   "execution_count": null,
   "id": "cea82c42",
   "metadata": {},
   "outputs": [],
   "source": []
  }
 ],
 "metadata": {
  "kernelspec": {
   "display_name": "Python 3 (ipykernel)",
   "language": "python",
   "name": "python3"
  },
  "language_info": {
   "codemirror_mode": {
    "name": "ipython",
    "version": 3
   },
   "file_extension": ".py",
   "mimetype": "text/x-python",
   "name": "python",
   "nbconvert_exporter": "python",
   "pygments_lexer": "ipython3",
   "version": "3.11.6"
  }
 },
 "nbformat": 4,
 "nbformat_minor": 5
}
