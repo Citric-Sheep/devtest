{
 "cells": [
  {
   "cell_type": "markdown",
   "metadata": {},
   "source": [
    "# CRUD DATA"
   ]
  },
  {
   "cell_type": "code",
   "execution_count": 1,
   "metadata": {},
   "outputs": [],
   "source": [
    "import mysql.connector\n",
    "from mysql.connector import Error\n",
    "import pandas as pd"
   ]
  },
  {
   "cell_type": "markdown",
   "metadata": {},
   "source": [
    "Functions are defined to interact with the created table where the data will be stored"
   ]
  },
  {
   "cell_type": "code",
   "execution_count": 9,
   "metadata": {},
   "outputs": [],
   "source": [
    "def create_db_connection(host_name, user_name, user_password, db_name):\n",
    "    connection = None\n",
    "    try:\n",
    "        connection = mysql.connector.connect(\n",
    "            host=host_name,\n",
    "            user=user_name,\n",
    "            passwd=user_password,\n",
    "            database=db_name\n",
    "        )\n",
    "        print(\"MySQL Database connection successful\")\n",
    "    except Error as err:\n",
    "        print(f\"Error: '{err}'\")\n",
    "\n",
    "    return connection\n",
    "\n",
    "\n",
    "def execute_query(connection, query):\n",
    "    cursor = connection.cursor()\n",
    "    try:\n",
    "        cursor.execute(query)\n",
    "        connection.commit()\n",
    "        print(\"Query successful\")\n",
    "    except Error as err:\n",
    "        print(f\"Error: '{err}'\")\n",
    "        \n",
    "\n",
    "db=\"building_2\";\n",
    "pw=\"YourPassword\";\n"
   ]
  },
  {
   "cell_type": "code",
   "execution_count": 10,
   "metadata": {},
   "outputs": [
    {
     "name": "stdout",
     "output_type": "stream",
     "text": [
      "MySQL Database connection successful\n"
     ]
    }
   ],
   "source": [
    "connection = create_db_connection(\"localhost\", \"root\", pw, db) # Connect to the Database"
   ]
  },
  {
   "cell_type": "markdown",
   "metadata": {},
   "source": [
    "## Insert Data "
   ]
  },
  {
   "cell_type": "code",
   "execution_count": 11,
   "metadata": {},
   "outputs": [],
   "source": [
    "CRUD_DATA = \"\"\"\n",
    "\n",
    "INSERT INTO Elevator_data VALUES \n",
    "  (0,8 ,\"Windy\"  ,70 ,100,80 ,76 ,56 ,80 ,20 ,\"NO\" ,CURRENT_TIMESTAMP()+1), \n",
    "  (0,17,\"Sunny\"  ,70 ,56 ,2  ,80 ,45 ,20 ,65 ,\"YES\",CURRENT_TIMESTAMP()+3), \n",
    "  (0,14,\"Humid\"  ,70 ,100,80 ,76 ,56 ,20 ,80 ,\"NO\" ,CURRENT_TIMESTAMP()+5), \n",
    "  (5,20,\"Sunny\"  ,0  ,80 ,100,100,75 ,100,50 ,\"YES\",'2022-07-21 15:54:01'), \n",
    "  (3,8, \"Raining\",0  ,2  ,34 ,87 ,99 ,76 ,34 ,\"NO\" ,'2021-05-30 03:28:01'), \n",
    "  (2,12,\"Humid\"  ,200,96 ,0  ,87 ,0  ,46 ,0  ,\"NO\" ,'2019-03-2  11:57:01'), \n",
    "  (1,16,\"Sunny\"  ,0  ,27 ,89 ,34 ,67 ,34 ,46 ,\"YES\",'2019-01-18 09:12:01'), \n",
    "  (0,8,\"Raining\" ,0  ,98 ,76 ,40 ,98 ,56 ,87 ,\"NO\" ,'2019-12-16 10:45:01');\n",
    "\n",
    "\"\"\""
   ]
  },
  {
   "cell_type": "code",
   "execution_count": 12,
   "metadata": {},
   "outputs": [
    {
     "name": "stdout",
     "output_type": "stream",
     "text": [
      "Query successful\n"
     ]
    }
   ],
   "source": [
    "execute_query(connection, CRUD_DATA)"
   ]
  }
 ],
 "metadata": {
  "kernelspec": {
   "display_name": "Python 3.8.13 ('citric_sheep')",
   "language": "python",
   "name": "python3"
  },
  "language_info": {
   "codemirror_mode": {
    "name": "ipython",
    "version": 3
   },
   "file_extension": ".py",
   "mimetype": "text/x-python",
   "name": "python",
   "nbconvert_exporter": "python",
   "pygments_lexer": "ipython3",
   "version": "3.8.13"
  },
  "orig_nbformat": 4,
  "vscode": {
   "interpreter": {
    "hash": "4bb71f0eb3d265724af30cdbf200bde874c09da31f859865ea4a72137ed41c21"
   }
  }
 },
 "nbformat": 4,
 "nbformat_minor": 2
}
