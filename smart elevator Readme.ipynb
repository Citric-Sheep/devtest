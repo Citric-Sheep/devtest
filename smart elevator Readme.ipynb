{
 "cells": [
  {
   "cell_type": "markdown",
   "id": "a0a4a605-cc89-4d31-a4d4-eea051fabc2f",
   "metadata": {
    "tags": []
   },
   "source": [
    "# Smart elevator"
   ]
  },
  {
   "cell_type": "markdown",
   "id": "22b2e296-c865-4f91-8934-3a67d027e075",
   "metadata": {},
   "source": [
    "The goal of this project is to model an elevator to build a prediction engine for which floor is the best resting floor at any time.\n",
    "\n",
    "* When people call an elevator this is considered a demand\n",
    "* When the elevator is vacant and not moving between floors, the current floor is considered its resting floor.\n",
    "* When the elevator is vacant, it can stay at the current position or move to a different floor\n",
    "* The prediction model will determine what is the best floor to rest on.\n",
    "* The requirement isn't to complete this system but to start building a system that would feed into the training and prediction of an ML system.\n",
    "* You will need to talk through your approach, how you modelled the data and why you thought that data was important, provide endpoints to collect the data and a means to store the data. Testing is important and will be used verify your system."
   ]
  },
  {
   "cell_type": "markdown",
   "id": "32eaf9fb-975c-47e3-a0b8-8d81883b8228",
   "metadata": {
    "tags": []
   },
   "source": [
    "## In short"
   ]
  },
  {
   "cell_type": "markdown",
   "id": "db1ca5e0-8977-4488-b9c2-b6cf55e2e31a",
   "metadata": {},
   "source": [
    "* connect to a database\n",
    "* crud some data (perhaps using flask)\n",
    "* add some flair with a business rule or two\n",
    "* have the data in a suitable format to feed to a prediction training algorithm"
   ]
  },
  {
   "cell_type": "markdown",
   "id": "9cd10b96-b080-4863-b09d-f76c90761c53",
   "metadata": {
    "tags": []
   },
   "source": [
    "## Marking"
   ]
  },
  {
   "cell_type": "markdown",
   "id": "e42f3b79-a8a6-4413-80f2-2b825930297c",
   "metadata": {},
   "source": [
    "* You will be marked on how well your tests cover the code and how useful they would be in a prod system.\n",
    "* You will need to provide a database of some sort. This could be as simple as a sqlite or as complicated as a docker container with a migrations file.\n",
    "* Fork this repo and begin from there.\n",
    "* For your submission, invite my user to review your github PR(s) into the main branch. I will review it, offer any feedback and if it passes PR you will proceed onto the next step.\n",
    "* Github user to invite is @dchecks"
   ]
  },
  {
   "cell_type": "markdown",
   "id": "04404123-26be-41eb-a5a5-d257c03ecf03",
   "metadata": {
    "tags": []
   },
   "source": [
    "# Analysis logic"
   ]
  },
  {
   "cell_type": "markdown",
   "id": "9e4b0109-0593-4d93-93b5-4083cf446153",
   "metadata": {
    "jp-MarkdownHeadingCollapsed": true,
    "tags": []
   },
   "source": [
    "Elevators can be used in several places, for example:\n",
    "\n",
    "* Company building.\n",
    "* Apartment building.\n",
    "* Mall.\n",
    "\n",
    "The place is important because the people behavior would be different in function of the place and the activities that they do on it.  Let’s analyze what could happen depending on which building the elevator is located, and we will try to find a common pattern to make a model that can make a good performance in this scenarios."
   ]
  },
  {
   "cell_type": "markdown",
   "id": "82e6d751-509a-4e1c-9edd-2f96083429a6",
   "metadata": {
    "jp-MarkdownHeadingCollapsed": true,
    "tags": []
   },
   "source": [
    "## Company building"
   ]
  },
  {
   "cell_type": "markdown",
   "id": "2fabc74c-bf28-4a21-8b82-27888fa09ee6",
   "metadata": {},
   "source": [
    "In this building, most of people are workers, so usually they have a regular schedule to use the elevator:\n",
    "* When they start working.\n",
    "* At lunch time.\n",
    "* When they finish working.\n",
    "\n",
    "We can expect some regular data from this behavior. On the other hand, we have some random data, that comes from:\n",
    "\n",
    "* Special guests (not workers).\n",
    "* If a worker arrives late or early.\n",
    "* If a worker leaves early or late.\n",
    "* A special shift."
   ]
  },
  {
   "cell_type": "markdown",
   "id": "2619e84b-44bd-4a06-be72-f65c24f546b2",
   "metadata": {
    "jp-MarkdownHeadingCollapsed": true,
    "tags": []
   },
   "source": [
    "## Apartment building"
   ]
  },
  {
   "cell_type": "markdown",
   "id": "f664b9a7-b904-4dd3-af12-aa286bd4177d",
   "metadata": {},
   "source": [
    "In this building, the data could be a little more “random”, but we could find some regular schedules to use the elevator:\n",
    "\n",
    "* When the people go to work.\n",
    "* May be some people can take their lunch at home.\n",
    "* When the people come back to sleep.\n",
    "* People habits (people who wake up early to make exercise, or another different activities that can add some regular use to the elevator).\n",
    "\n",
    "We can expect some regular data from this behavior. On the other hand, we can expect more random data in this building, because some people doesn’t have regular schedules to go home at the end of the day, in addition, we could have:\n",
    "\n",
    "* Some guests.\n",
    "* Go out for travels or parties (in general other activities that people do in their rest)."
   ]
  },
  {
   "cell_type": "markdown",
   "id": "4f1977cd-15ad-45b3-9650-dc577825d1a5",
   "metadata": {
    "jp-MarkdownHeadingCollapsed": true,
    "tags": []
   },
   "source": [
    "## Mall"
   ]
  },
  {
   "cell_type": "markdown",
   "id": "b980dd48-dd33-4af3-98f5-634df9d2b9c9",
   "metadata": {},
   "source": [
    "This building, could be a middle term between company and apartment buildings, because we have workers and no workers all the time, so we can expect a regular schedule to use the elevator from workers, but an irregular behavior from visitors, let’s started with the regular behavior:\n",
    "\n",
    "* When workers start working.\n",
    "* At lunch time (for workers and not workers).\n",
    "* When workers finish working.\n",
    "* People habits (people who go to the gym, or another different activities that can add some regular use to the elevator).\n",
    "\n",
    "We can expect some regular data from this behavior. On the other hand, we have more random data, that comes from:\n",
    "\n",
    "* Visitors at any time and any day basically.\n",
    "* If a worker arrives late or early.\n",
    "* If a worker leaves early or late.\n",
    "* A special shift."
   ]
  },
  {
   "cell_type": "markdown",
   "id": "2e439be4-b7de-4e87-8606-53281237c879",
   "metadata": {
    "tags": []
   },
   "source": [
    "## Common features"
   ]
  },
  {
   "cell_type": "markdown",
   "id": "457da4c1-36c6-4148-ba0e-ce0e4711676e",
   "metadata": {},
   "source": [
    "We can see some common features, for example, no all the data would be random at first glance, so if we look this deeply, we could see that we can apply the next logic for all situations:\n",
    "\n",
    "We will always have random data, because we can’t say that people will always make the same route every day, may be 2 users can have the same schedule, but they can arrive to work at different times, so we will have some noise from this behavior (even when we thought that this would be a regular behavior), so, a good approach, could be search for some patterns in the dataset, may be the use between Monday and Friday (even Saturday in some cases), and define some boundaries or ranges of use, that we can use later to normalize the rest of data and avoid introduce that noise in our model. "
   ]
  },
  {
   "cell_type": "markdown",
   "id": "38f2883e-5702-44d3-a8f0-e45f1d8623de",
   "metadata": {
    "tags": []
   },
   "source": [
    "# Importing zone"
   ]
  },
  {
   "cell_type": "code",
   "execution_count": 36,
   "id": "98a4097b-2198-4c97-9ba5-4babf1a12e8e",
   "metadata": {},
   "outputs": [],
   "source": [
    "import pandas as pd\n",
    "import matplotlib.pyplot as plt\n",
    "%matplotlib inline\n",
    "import seaborn as sns\n",
    "from datetime import datetime, timedelta\n",
    "import numpy as np\n",
    "\n",
    "from sklearn import tree\n",
    "from sklearn.model_selection import train_test_split"
   ]
  },
  {
   "cell_type": "markdown",
   "id": "d8921dad-3b87-4df5-a1fa-d0c747291230",
   "metadata": {
    "tags": []
   },
   "source": [
    "# Dataset exploration"
   ]
  },
  {
   "cell_type": "code",
   "execution_count": 37,
   "id": "4b287752-744d-4458-b203-fbd6073d66fe",
   "metadata": {},
   "outputs": [
    {
     "name": "stdout",
     "output_type": "stream",
     "text": [
      "                      Date  demandFloor  endFloor  people\n",
      "0     2021/12/01, 09:08:05            7         3       8\n",
      "1     2021/12/01, 09:10:23            3        16       1\n",
      "2     2021/12/01, 09:17:52           16        10       4\n",
      "3     2021/12/01, 09:21:20           10        13       5\n",
      "4     2021/12/01, 09:23:03           13        15       8\n",
      "...                    ...          ...       ...     ...\n",
      "5036  2021/12/10, 15:01:31            4        20       8\n",
      "5037  2021/12/10, 15:10:44           20         1       7\n",
      "5038  2021/12/10, 15:21:41            1         5       6\n",
      "5039  2021/12/10, 15:23:59            5        15       7\n",
      "5040  2021/12/10, 15:29:45           15         4       0\n",
      "\n",
      "[5041 rows x 4 columns]\n"
     ]
    }
   ],
   "source": [
    "elevator_dataset = pd.read_csv('elevator_operation_dataset.csv', index_col=[0])\n",
    "print(elevator_dataset)"
   ]
  },
  {
   "cell_type": "markdown",
   "id": "0da96d37-feaa-40d7-a6e4-a73045e8ffd6",
   "metadata": {},
   "source": [
    "After a search on internet, I can’t find a dataset with the data of the operation of an elevator, so we will have to generate our own dataset. Making some explorations in the dataset, we can see it has the next columns:\n",
    "\n",
    "* **Date:** Date and time of the movement.\n",
    "* **demandFloor:** Floor from which we made the requirement.\n",
    "* **endFloor:** Floor where some of all people leaves the elevator.\n",
    "* **people:** Quantity of people remaining in the elevator.\n",
    "\n",
    "Every row has a movement (from demandFloor to endFloor), when the elevator reach the endFloor but some people still there waiting for another endFloor, that endFloor is the demandFloor of the next row, but, when there is not people in the elevator, that endFloor is considered the rest floor, and the next row has the demandFloor after the rest floor,  that is the record what we want to predict to define the best rest floor."
   ]
  },
  {
   "cell_type": "markdown",
   "id": "d13152a4-5a39-4941-bfda-2a54e85e791f",
   "metadata": {},
   "source": [
    "# Trying to find a pattern"
   ]
  },
  {
   "cell_type": "markdown",
   "id": "0956fd27-5ddf-4229-aa02-be707531debf",
   "metadata": {},
   "source": [
    "Let's plot two different days separately and try to find a pattern."
   ]
  },
  {
   "cell_type": "code",
   "execution_count": 38,
   "id": "f46b21b3-29e8-4bed-bf15-04c57d51da51",
   "metadata": {},
   "outputs": [
    {
     "data": {
      "text/plain": [
       "<AxesSubplot:xlabel='index', ylabel='demandFloor'>"
      ]
     },
     "execution_count": 38,
     "metadata": {},
     "output_type": "execute_result"
    },
    {
     "data": {
      "image/png": "[encoded data removed]",
      "text/plain": [
       "<Figure size 640x480 with 1 Axes>"
      ]
     },
     "metadata": {},
     "output_type": "display_data"
    },
    {
     "data": {
      "image/png": "[encoded data removed]",
      "text/plain": [
       "<Figure size 640x480 with 1 Axes>"
      ]
     },
     "metadata": {},
     "output_type": "display_data"
    }
   ],
   "source": [
    "# One day\n",
    "start_date = '2021/12/01'\n",
    "end_date = '2021/12/01, 10:00:00'\n",
    "# Select DataFrame rows between two dates\n",
    "mask = (elevator_dataset['Date'] >= start_date) & (elevator_dataset['Date'] < end_date)\n",
    "one_day_df = elevator_dataset.loc[mask]\n",
    "one_day_df.reset_index().plot.scatter(x='index', y='demandFloor', s=50)\n",
    "\n",
    "# Another day\n",
    "start_date = '2021/12/03'\n",
    "end_date = '2021/12/04, 10:00:00'\n",
    "# Select DataFrame rows between two dates\n",
    "mask = (elevator_dataset['Date'] >= start_date) & (elevator_dataset['Date'] < end_date)\n",
    "other_day_df = elevator_dataset.loc[mask]\n",
    "other_day_df.reset_index().plot.scatter(x='index', y='demandFloor', s=50)"
   ]
  },
  {
   "cell_type": "markdown",
   "id": "e04c4193-0d13-425c-b885-133fe10275d9",
   "metadata": {},
   "source": [
    "We can't see some pattern or some kind of relattionship between the dates *(and I tried all the combinations possibles: date vs demandFloor, date vs endFloor, demandFloor vs endFloor)* , so, using these data (for at least with this shape) is quickly discarded. "
   ]
  },
  {
   "cell_type": "markdown",
   "id": "ea387e93-6367-43e3-aa3f-9fe559ef5a1c",
   "metadata": {},
   "source": [
    "# Finding a way to use the data"
   ]
  },
  {
   "cell_type": "markdown",
   "id": "74a1db89-7360-4d0f-a183-1a21a8b04e80",
   "metadata": {},
   "source": [
    "We will create 4 new columns, timeHour, timeMinute, timeSecond and day. With this information we will make a tree of decisions, assuming that every week the behavior of the elevator remains approximately close, starting from the premise that people usually have habbits, so the elevator demand won't be the same, but it will have some similarities for the same days, for example, same behavior every monday, every tuesday, etc.\n",
    "\n",
    "The time will be splitted and coding in three columns as follows:\n",
    "\n",
    "* Hours = hour/23\n",
    "* Minutes = minute/59\n",
    "* Seconds = second/59"
   ]
  },
  {
   "cell_type": "code",
   "execution_count": 39,
   "id": "70eae2c7-7510-4904-8fbe-05b6a5f84500",
   "metadata": {},
   "outputs": [
    {
     "name": "stdout",
     "output_type": "stream",
     "text": [
      "      demandFloor  timeHour  timeMinute  timeSecond  day\n",
      "0               7  0.391304    0.135593    0.084746    2\n",
      "1               3  0.391304    0.169492    0.389831    2\n",
      "2              16  0.391304    0.288136    0.881356    2\n",
      "3              10  0.391304    0.355932    0.338983    2\n",
      "4              13  0.391304    0.389831    0.050847    2\n",
      "...           ...       ...         ...         ...  ...\n",
      "5036            4  0.652174    0.016949    0.525424    4\n",
      "5037           20  0.652174    0.169492    0.745763    4\n",
      "5038            1  0.652174    0.355932    0.694915    4\n",
      "5039            5  0.652174    0.389831    1.000000    4\n",
      "5040           15  0.652174    0.491525    0.762712    4\n",
      "\n",
      "[5041 rows x 5 columns]\n"
     ]
    }
   ],
   "source": [
    "# Splitting the date and time in two different columns\n",
    "elevator_dataset['Date'] = pd.to_datetime(elevator_dataset['Date'])\n",
    "\n",
    "elevator_dataset['timeHour'] = elevator_dataset['Date'].apply(\n",
    "    lambda x: x.time().hour/23\n",
    ")\n",
    "\n",
    "elevator_dataset['timeMinute'] = elevator_dataset['Date'].apply(\n",
    "    lambda x: x.time().minute/59\n",
    ")\n",
    "\n",
    "elevator_dataset['timeSecond'] = elevator_dataset['Date'].apply(\n",
    "    lambda x: x.time().second/59\n",
    ")\n",
    "\n",
    "elevator_dataset['day'] = elevator_dataset['Date'].dt.dayofweek\n",
    "\n",
    "# Dropping the columns that we won't use\n",
    "elevator_df = elevator_dataset.drop(['Date', 'endFloor', 'people'] , axis=1)\n",
    "\n",
    "print(elevator_df)"
   ]
  },
  {
   "cell_type": "markdown",
   "id": "bf9a5ebf-be86-4f18-9a9c-14bcfd85306a",
   "metadata": {},
   "source": [
    "# Making the model"
   ]
  },
  {
   "cell_type": "code",
   "execution_count": 40,
   "id": "cb58984e-b104-4efa-b9a0-9e8b33c1435a",
   "metadata": {},
   "outputs": [],
   "source": [
    "from sklearn import preprocessing\n",
    "label_encoder = preprocessing.LabelEncoder()\n",
    "\n",
    "#encoder_day = label_encoder.fit_transform(elevator_df['day'])\n",
    "\n",
    "train_predictors = elevator_df.drop(['demandFloor'], axis = 1)\n",
    "\n",
    "dummy_encoded_train_predictors = pd.get_dummies(train_predictors)"
   ]
  },
  {
   "cell_type": "code",
   "execution_count": 41,
   "id": "054d8047-b941-4843-92e0-f87edd136d00",
   "metadata": {},
   "outputs": [],
   "source": [
    "y_target = elevator_df['demandFloor'].values\n",
    "x_features_one = dummy_encoded_train_predictors.values"
   ]
  },
  {
   "cell_type": "code",
   "execution_count": 42,
   "id": "6d0a4729-ffa6-4f2f-afcf-c960df44a80b",
   "metadata": {},
   "outputs": [],
   "source": [
    "x_train, x_validation, y_train, y_validation = train_test_split(x_features_one, y_target, test_size = .25, random_state = 1)"
   ]
  },
  {
   "cell_type": "code",
   "execution_count": 43,
   "id": "a2fddd6d-2487-42f6-926f-43eb41056320",
   "metadata": {},
   "outputs": [],
   "source": [
    "elevator_tree = tree.DecisionTreeClassifier()\n",
    "elevator_tree = elevator_tree.fit(x_features_one, y_target)"
   ]
  },
  {
   "cell_type": "code",
   "execution_count": 44,
   "id": "c4f8cc4c-b430-4502-b7d4-0d3448c7c5c1",
   "metadata": {},
   "outputs": [
    {
     "name": "stdout",
     "output_type": "stream",
     "text": [
      "Accuracy: 0.9946\n"
     ]
    }
   ],
   "source": [
    "elevator_tree_accuracy = round(elevator_tree.score(x_features_one, y_target), 4)\n",
    "print('Accuracy: %0.4f' % (elevator_tree_accuracy))"
   ]
  },
  {
   "cell_type": "markdown",
   "id": "593b1d93-83a9-4fee-bdcd-dafc87c8e13d",
   "metadata": {},
   "source": [
    "# Testing"
   ]
  },
  {
   "cell_type": "markdown",
   "id": "2815031c-43f1-42e4-8a34-5d1fdeecdcb7",
   "metadata": {},
   "source": [
    "We will use the test dataset to test the model again, but this time, we will measure the waiting time every time that an user call the elevator from its rest position, and we will compare with IA and wihiout IA."
   ]
  },
  {
   "cell_type": "code",
   "execution_count": 45,
   "id": "687be363-fb04-4e63-8e27-15ea954b17da",
   "metadata": {},
   "outputs": [
    {
     "name": "stdout",
     "output_type": "stream",
     "text": [
      "      demandFloor  timeHour  timeMinute  timeSecond  day  people\n",
      "3780           17  0.391304    0.016949    0.237288    2       8\n",
      "3781            5  0.391304    0.135593    0.135593    2       6\n",
      "3782           20  0.391304    0.271186    0.796610    2       8\n",
      "3783            2  0.391304    0.457627    0.152542    2       3\n",
      "3784            8  0.391304    0.508475    0.610169    2       0\n",
      "...           ...       ...         ...         ...  ...     ...\n",
      "5036            4  0.652174    0.016949    0.525424    4       8\n",
      "5037           20  0.652174    0.169492    0.745763    4       7\n",
      "5038            1  0.652174    0.355932    0.694915    4       6\n",
      "5039            5  0.652174    0.389831    1.000000    4       7\n",
      "5040           15  0.652174    0.491525    0.762712    4       0\n",
      "\n",
      "[1261 rows x 6 columns]\n"
     ]
    },
    {
     "name": "stderr",
     "output_type": "stream",
     "text": [
      "/tmp/ipykernel_30515/1073339025.py:4: SettingWithCopyWarning: \n",
      "A value is trying to be set on a copy of a slice from a DataFrame.\n",
      "Try using .loc[row_indexer,col_indexer] = value instead\n",
      "\n",
      "See the caveats in the documentation: https://pandas.pydata.org/pandas-docs/stable/user_guide/indexing.html#returning-a-view-versus-a-copy\n",
      "  test_df['people'] = elevator_dataset['people'].iloc[3780:].values\n"
     ]
    }
   ],
   "source": [
    "# length train data = 3780/ length validation data = 1261\n",
    "test_df = elevator_df.iloc[3780:,:]\n",
    "# Adding people data to the test df\n",
    "test_df['people'] = elevator_dataset['people'].iloc[3780:].values\n",
    "print(test_df)"
   ]
  },
  {
   "cell_type": "code",
   "execution_count": 46,
   "id": "86fdb934-387b-41c8-b7e7-263a3b444b41",
   "metadata": {},
   "outputs": [
    {
     "name": "stdout",
     "output_type": "stream",
     "text": [
      "total calls: 137\n",
      "total floors traveled:\n",
      "whitout IA 878 | whit IA 802\n",
      "time without IA [mm:ss] | time with IA [mm:ss]\n",
      "max: 10:22 | 10:55\n",
      "min: 0:0 | 0:0\n",
      "mean: 3:40 | 3:21\n",
      "median: 3:27 | 2:51\n"
     ]
    }
   ],
   "source": [
    "# Save total ditance and movements from the rest positions without IA\n",
    "# Elevator start at floor 1, wait time from rest to current floor,\n",
    "# and acumulated distance\n",
    "floor_noIA = [1]\n",
    "time_noIA =['00:00']\n",
    "dist_noIA = 0\n",
    "\n",
    "# Save total ditance and movements from the rest positions with IA\n",
    "# Elevator start at floor 1, wait time from rest to current floor,\n",
    "# and acumulated distance\n",
    "floor_IA = [1]\n",
    "time_IA = ['00:00']\n",
    "dist_IA = 0\n",
    "\n",
    "# Create date just to measure time\n",
    "timeRef = datetime(1,1,22,0,0,0)\n",
    "\n",
    "# Iterating through df\n",
    "for i in test_df.index:\n",
    "    # We only check for distances if the elevator is in rest position\n",
    "    if test_df['people'][i] == 0:\n",
    "        # Updte no IA time ---------------------------------\n",
    "        floor_noIA.append(test_df['demandFloor'][i])\n",
    "        time_noIA.append((timeRef + timedelta(days=abs(test_df['demandFloor'][i]-floor_noIA[-2])*0.0004)).strftime('%M:%S'))\n",
    "        dist_noIA += abs(test_df['demandFloor'][i]-floor_noIA[-2])\n",
    "        # Updte IA time ---------------------------------\n",
    "        # Predict the possible value for demand floor and go there\n",
    "        # Check the current hour\n",
    "        # Check in what half hour we are, example: 09:00 or 09:30\n",
    "        if (test_df['timeMinute'][i]) < (30/59):\n",
    "            timeMinute = 0.0\n",
    "        else:\n",
    "            timeMinute = round(30/59, 6)\n",
    "        # Go to the predicted floor for that hour\n",
    "        predicted_floor = elevator_tree.predict([[test_df['timeHour'][i], timeMinute, 0.0, test_df['day'][i]]])[0]\n",
    "        floor_IA.append(predicted_floor)\n",
    "        # Now go to the floor where the call was made\n",
    "        floor_IA.append(test_df['demandFloor'][i])\n",
    "        time_IA.append((timeRef + timedelta(days=abs(test_df['demandFloor'][i]-floor_IA[-2])*0.0004)).strftime('%M:%S'),)\n",
    "        dist_IA += abs(test_df['demandFloor'][i]-floor_IA[-2])\n",
    "        \n",
    "performance_df = pd.DataFrame()\n",
    "performance_df['floorLogNoIA'] = floor_noIA\n",
    "performance_df['timeLogNoIA'] = time_noIA\n",
    "performance_df['timeLogIA'] = time_IA\n",
    "\n",
    "performance_df['floatTimeLogNoIA'] = performance_df['timeLogNoIA'].apply(\n",
    "    lambda x: float(x[:2]) + float(x[3:])/59 if(x != '--') else '--'\n",
    ")\n",
    "performance_df['floatTimeLogIA'] = performance_df['timeLogIA'].apply(\n",
    "    lambda x: float(x[:2]) + float(x[3:])/59 if(x != '--') else '--'\n",
    ")\n",
    "\n",
    "maxNoIA = performance_df['floatTimeLogNoIA'].max()\n",
    "minNoIA = performance_df['floatTimeLogNoIA'].min()\n",
    "meanNoIA = performance_df['floatTimeLogNoIA'].mean()\n",
    "medianNoIA = performance_df['floatTimeLogNoIA'].median()\n",
    "\n",
    "maxIA = performance_df['floatTimeLogIA'].max()\n",
    "minIA = performance_df['floatTimeLogIA'].min()\n",
    "meanIA = performance_df['floatTimeLogIA'].mean()\n",
    "medianIA = performance_df['floatTimeLogIA'].median()\n",
    "\n",
    "print('total calls: {}'.format(len(performance_df)))\n",
    "print('total floors traveled:')\n",
    "print('whitout IA {} | whit IA {}'.format(\n",
    "    dist_noIA,\n",
    "    dist_IA\n",
    "    )\n",
    ")\n",
    "\n",
    "print('time without IA [mm:ss] | time with IA [mm:ss]')\n",
    "print('max: {}:{} | {}:{}'.format(\n",
    "    int(maxNoIA),\n",
    "    int((maxNoIA-int(maxNoIA))*59),\n",
    "    int(maxIA),\n",
    "    int((maxIA-int(maxIA))*59)\n",
    "    )\n",
    ")\n",
    "print('min: {}:{} | {}:{}'.format(\n",
    "    int(minNoIA),\n",
    "    int((minNoIA-int(minNoIA))*59),\n",
    "    int(minIA),\n",
    "    int((minIA-int(minIA))*59)\n",
    "    )\n",
    ")\n",
    "print('mean: {}:{} | {}:{}'.format(\n",
    "    int(meanNoIA),\n",
    "    int((meanNoIA-int(meanNoIA))*59),\n",
    "    int(meanIA),\n",
    "    int((meanIA-int(meanIA))*59)\n",
    "    )\n",
    ")\n",
    "print('median: {}:{} | {}:{}'.format(\n",
    "    int(medianNoIA),\n",
    "    int((medianNoIA-int(medianNoIA))*59),\n",
    "    int(medianIA),\n",
    "    int((medianIA-int(medianIA))*59)\n",
    "    )\n",
    ")\n"
   ]
  },
  {
   "cell_type": "markdown",
   "id": "c4e0b554-5220-4056-81d1-cfe848aafae1",
   "metadata": {},
   "source": [
    "# Conclusions"
   ]
  },
  {
   "cell_type": "markdown",
   "id": "b21b86da-355e-423f-92a5-7ea1254169cb",
   "metadata": {},
   "source": [
    "We can see that the IA model has the longest waiting time obtained and it has a mean waiting time higher, however, we can see that its median is lower, this means, that the half of times that the elevator was called, the waiting time was lower than 2 minutes 51 seconds (68 calls). On the other hand, we can see that the elevator does more movements between floors because it has to travel to the predicted floor at certains hours."
   ]
  }
 ],
 "metadata": {
  "kernelspec": {
   "display_name": "Python 3 (ipykernel)",
   "language": "python",
   "name": "python3"
  },
  "language_info": {
   "codemirror_mode": {
    "name": "ipython",
    "version": 3
   },
   "file_extension": ".py",
   "mimetype": "text/x-python",
   "name": "python",
   "nbconvert_exporter": "python",
   "pygments_lexer": "ipython3",
   "version": "3.9.13"
  }
 },
 "nbformat": 4,
 "nbformat_minor": 5
}
